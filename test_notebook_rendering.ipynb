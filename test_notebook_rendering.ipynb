{
 "cells": [
  {
   "cell_type": "code",
   "execution_count": null,
   "metadata": {},
   "outputs": [],
   "source": [
    "import numpy as np\n",
    "import clifford as cf\n",
    "from pyganja import *"
   ]
  },
  {
   "cell_type": "markdown",
   "metadata": {},
   "source": [
    "# Test 3D CGA"
   ]
  },
  {
   "cell_type": "code",
   "execution_count": null,
   "metadata": {},
   "outputs": [],
   "source": [
    "from clifford.tools.g3c import random_line as random_3D_cga_line\n",
    "from clifford.tools.g3c import random_circle as random_3D_cga_circle"
   ]
  },
  {
   "cell_type": "code",
   "execution_count": null,
   "metadata": {},
   "outputs": [],
   "source": [
    "draw([random_3D_cga_line() for i in range(10)],static=True, scale=0.1)\n",
    "draw([random_3D_cga_circle() for i in range(10)],static=False, scale=0.1)"
   ]
  },
  {
   "cell_type": "markdown",
   "metadata": {},
   "source": [
    "# Test 3D PGA"
   ]
  },
  {
   "cell_type": "code",
   "execution_count": null,
   "metadata": {},
   "outputs": [],
   "source": [
    "pga3D_layout, pga3D_blades = cf.Cl(3, 0, 1, firstIdx=0)\n",
    "\n",
    "def random_3D_PGA_point():\n",
    "    return pga3D_blades[\"e123\"] + sum(\n",
    "            c * pga3D_blades[b] for c, b in zip(np.random.randn(3), [\"e023\", \"e013\", \"e012\"]))\n",
    "\n",
    "def random_3D_PGA_line():\n",
    "    return (random_3D_PGA_point().dual()^random_3D_PGA_point().dual()).dual()\n",
    "\n",
    "draw([random_3D_PGA_point() for i in range(10)], sig=pga3D_layout.sig, scale=0.1)\n",
    "draw([random_3D_PGA_line() for i in range(10)], sig=pga3D_layout.sig, scale=0.1)"
   ]
  },
  {
   "cell_type": "markdown",
   "metadata": {},
   "source": [
    "# Test 2D CGA"
   ]
  },
  {
   "cell_type": "code",
   "execution_count": null,
   "metadata": {},
   "outputs": [],
   "source": [
    "from clifford.g2c import layout as cga2D_layout\n",
    "from clifford.g2c import blades as cga2D_blades\n",
    "from clifford.g2c import einf as cga2Deinf\n",
    "from clifford.g2c import up as cga2Dup\n",
    "\n",
    "def random_2D_CGA_point():\n",
    "    return cga2Dup(np.random.randn()*cga2D_blades['e1']+np.random.randn()*cga2D_blades['e2'])\n",
    "\n",
    "def random_2D_CGA_line():\n",
    "    return random_2D_CGA_point()^random_2D_CGA_point()^cga2Deinf\n",
    "\n",
    "def random_2D_CGA_circle():\n",
    "    return random_2D_CGA_point()^random_2D_CGA_point()^random_2D_CGA_point()\n",
    "\n",
    "\n",
    "draw([random_2D_CGA_point() for i in range(10)], sig=cga2D_layout.sig)\n",
    "draw([random_2D_CGA_line() for i in range(10)], sig=cga2D_layout.sig)\n",
    "draw([random_2D_CGA_circle() for i in range(10)], sig=cga2D_layout.sig)"
   ]
  },
  {
   "cell_type": "markdown",
   "metadata": {},
   "source": [
    "# Test 2D PGA"
   ]
  },
  {
   "cell_type": "code",
   "execution_count": null,
   "metadata": {},
   "outputs": [],
   "source": [
    "pga2D_layout, pga2D_blades = cf.Cl(2, 0, 1, firstIdx=0)\n",
    "\n",
    "def random_2D_PGA_point():\n",
    "    return pga2D_blades[\"e12\"] + sum(\n",
    "            c * pga2D_blades[b] for c, b in zip(np.random.randn(2), [\"e01\", \"e02\"]))\n",
    "\n",
    "def random_2D_PGA_line():\n",
    "    return (random_2D_PGA_point().dual()^random_2D_PGA_point().dual()).dual()\n",
    "\n",
    "draw([random_2D_PGA_point() for i in range(10)], sig=pga2D_layout.sig)\n",
    "draw([random_2D_PGA_line() for i in range(10)], sig=pga2D_layout.sig)"
   ]
  },
  {
   "cell_type": "code",
   "execution_count": null,
   "metadata": {},
   "outputs": [],
   "source": []
  }
 ],
 "metadata": {
  "kernelspec": {
   "display_name": "Python 3",
   "language": "python",
   "name": "python3"
  },
  "language_info": {
   "codemirror_mode": {
    "name": "ipython",
    "version": 3
   },
   "file_extension": ".py",
   "mimetype": "text/x-python",
   "name": "python",
   "nbconvert_exporter": "python",
   "pygments_lexer": "ipython3",
   "version": "3.8.8"
  }
 },
 "nbformat": 4,
 "nbformat_minor": 2
}
